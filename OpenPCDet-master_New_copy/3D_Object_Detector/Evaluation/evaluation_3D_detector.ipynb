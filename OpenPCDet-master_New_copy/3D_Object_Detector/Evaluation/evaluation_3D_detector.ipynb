{
 "cells": [
  {
   "cell_type": "markdown",
   "metadata": {},
   "source": [
    "# 3D detector evaluation"
   ]
  },
  {
   "cell_type": "code",
   "execution_count": 11,
   "metadata": {},
   "outputs": [],
   "source": [
    "import os\n",
    "import numpy as np\n",
    "import glob\n",
    "from bbox_utils import BoundingBox3D"
   ]
  },
  {
   "cell_type": "markdown",
   "metadata": {},
   "source": [
    "# Convert the pickle results file into txt file:\n",
    "First - convert the results.pkl file in the output directory to txt files using get_results.py"
   ]
  },
  {
   "cell_type": "markdown",
   "metadata": {},
   "source": [
    "# Metrics calculation:"
   ]
  },
  {
   "cell_type": "code",
   "execution_count": 12,
   "metadata": {},
   "outputs": [],
   "source": [
    "def calculate_metrics(tp, fp, fn, tn):\n",
    "    EPSILON = 1e-10  # Avoid division by zero\n",
    "    \n",
    "    precision = tp / (tp + fp + EPSILON)\n",
    "    recall = tp / (tp + fn + EPSILON)\n",
    "    f1_score = 2 * (precision * recall) / (precision + recall + EPSILON)\n",
    "\n",
    "    return precision, recall, f1_score"
   ]
  },
  {
   "cell_type": "code",
   "execution_count": 13,
   "metadata": {},
   "outputs": [],
   "source": [
    "def calculate_iou(box1, box2):\n",
    "    \"\"\"\n",
    "    Calculate IoU (Intersection over Union) between two bounding boxes.\n",
    "    \"\"\"\n",
    "    x1, y1, z1, w1, h1 = box1[:5]\n",
    "    x2, y2, z2, w2, h2 = box2[:5]\n",
    "\n",
    "    intersect_x = max(0, min(x1 + w1 / 2, x2 + w2 / 2) - max(x1 - w1 / 2, x2 - w2 / 2))\n",
    "    intersect_y = max(0, min(y1 + h1 / 2, y2 + h2 / 2) - max(y1 - h1 / 2, y2 - h2 / 2))\n",
    "\n",
    "    intersection = intersect_x * intersect_y\n",
    "    union = w1 * h1 + w2 * h2 - intersection\n",
    "\n",
    "    iou = intersection / max(union, 1e-10)  # Avoid division by zero\n",
    "\n",
    "    return iou"
   ]
  },
  {
   "cell_type": "code",
   "execution_count": 14,
   "metadata": {},
   "outputs": [],
   "source": [
    "# def evaluate_detection(gt_boxes, dnn_boxes, iou_threshold=0.5, confidence_threshold=0.3):\n",
    "#     tp = fp = fn = 0\n",
    "#     matched_dnn_boxes = set()  # To keep track of which dnn boxes have been matched\n",
    "#     boxes_to_discount = set()  # Due to low confidence score\n",
    "\n",
    "#     # Evaluate True Positives (TP) and False Negatives (FN)\n",
    "#     for gt_box in gt_boxes:\n",
    "#         match_found = False\n",
    "#         for idx, dnn_box in enumerate(dnn_boxes):  \n",
    "#             if idx in matched_dnn_boxes:\n",
    "#                 continue  # Skip boxes that are already matched\n",
    "\n",
    "#             confidence = dnn_box[7]\n",
    "#             if confidence < confidence_threshold:\n",
    "#                 boxes_to_discount.add(idx)\n",
    "\n",
    "#             if calculate_iou(gt_box, dnn_box) >= iou_threshold and confidence >= confidence_threshold:\n",
    "#                 tp += 1\n",
    "#                 match_found = True\n",
    "#                 matched_dnn_boxes.add(idx)\n",
    "#                 break  # Break after finding the first match\n",
    "\n",
    "#         if not match_found:\n",
    "#             fn += 1\n",
    "\n",
    "#     # Evaluate False Positives (FP)\n",
    "#     fp = len(dnn_boxes) - len(matched_dnn_boxes) - len(boxes_to_discount) # Total dnn_boxes minus those that matched\n",
    "    \n",
    "#     return tp, fp, fn"
   ]
  },
  {
   "cell_type": "code",
   "execution_count": 15,
   "metadata": {},
   "outputs": [],
   "source": [
    "def evaluate_detection(gt_boxes, dnn_boxes, iou_threshold=0.3, confidence_threshold=0.3):\n",
    "    tp = fp = fn = 0\n",
    "    matched_dnn_boxes = set()  # To keep track of which dnn boxes have been matched\n",
    "    boxes_to_discount = set()  # Due to low confidence score\n",
    "\n",
    "    # Separate the dnn_boxes based on confidence threshold\n",
    "    high_conf_dnn_boxes = [(idx, box) for idx, box in enumerate(dnn_boxes) if box[7] >= confidence_threshold]\n",
    "    low_conf_dnn_boxes = set(idx for idx, box in enumerate(dnn_boxes) if box[7] < confidence_threshold)\n",
    "\n",
    "    # Evaluate True Positives (TP) and False Negatives (FN)\n",
    "    for gt_box in gt_boxes:\n",
    "        match_found = False\n",
    "        for idx, dnn_box in high_conf_dnn_boxes:\n",
    "            if idx in matched_dnn_boxes:\n",
    "                continue  # Skip boxes that are already matched\n",
    "\n",
    "            if calculate_iou(gt_box, dnn_box) >= iou_threshold:\n",
    "                tp += 1\n",
    "                match_found = True\n",
    "                matched_dnn_boxes.add(idx)\n",
    "                break  # Break after finding the first match\n",
    "\n",
    "        if not match_found:\n",
    "            fn += 1\n",
    "\n",
    "    # Evaluate False Positives (FP)\n",
    "    fp = len(dnn_boxes) - len(matched_dnn_boxes) - len(low_conf_dnn_boxes) # Total dnn_boxes minus those that matched and those with low confidence\n",
    "\n",
    "    return tp, fp, fn\n"
   ]
  },
  {
   "cell_type": "markdown",
   "metadata": {},
   "source": [
    "# Visualization"
   ]
  },
  {
   "cell_type": "code",
   "execution_count": 16,
   "metadata": {},
   "outputs": [],
   "source": [
    "import plotly.graph_objects as go\n",
    "from plotly.subplots import make_subplots\n",
    "\n",
    "def saveHTML(pc, gt_boxes, detector_boxes, file_path, file_path_png, show_dont_save=True, margin=3, min_confidence=0.0):\n",
    "    pc = pc.T\n",
    "    data = []\n",
    "\n",
    "    # Plot the point cloud\n",
    "    data.append(go.Scatter3d(\n",
    "        x=pc[0,:], y=pc[1,:], z=pc[2,:],\n",
    "        mode=\"markers\",\n",
    "        marker=dict(size=2, color=pc[2,:], colorscale='Viridis', opacity=1)\n",
    "    ))\n",
    "\n",
    "    # Function to format bbox data text\n",
    "    def format_bbox_text(x, y, z, confidence=None):\n",
    "        text = f\"X: {x:.2f}, Y: {y:.2f}, Z: {z:.2f}\"\n",
    "        if confidence is not None:\n",
    "            text += f\"<br>Confidence: {confidence*100:.2f}%\"\n",
    "        return text\n",
    "\n",
    "    # Add Detector Bounding Boxes in Red with confidence scores\n",
    "    for det in detector_boxes:\n",
    "        confidence = det[7]\n",
    "        if confidence >= min_confidence:\n",
    "            bbox = BoundingBox3D(\n",
    "                x=det[0], y=det[1], z=det[2],\n",
    "                length=det[3], width=det[4], height=det[5],\n",
    "                euler_angles=[0, 0, det[6]]\n",
    "            )\n",
    "            corners, triangle_vertices = bbox.p, bbox.triangle_vertices\n",
    "\n",
    "            # Dynamic opacity based on confidence\n",
    "            # opacity = 0.2 + 0.2 * confidence\n",
    "\n",
    "            # Mesh for the bounding box\n",
    "            data.append(go.Mesh3d(\n",
    "                x=corners[:, 0], y=corners[:, 1], z=corners[:, 2],\n",
    "                i=triangle_vertices[0], j=triangle_vertices[1], k=triangle_vertices[2],\n",
    "                opacity=0.3, color='red',\n",
    "                hovertext=format_bbox_text(det[0], det[1], det[2], confidence),\n",
    "                hoverinfo='text'\n",
    "            ))\n",
    "\n",
    "    # Add Ground Truth Bounding Boxes in Green\n",
    "    for gt in gt_boxes:\n",
    "        bbox = BoundingBox3D(\n",
    "            x=gt[0], y=gt[1], z=gt[2],\n",
    "            length=gt[3], width=gt[4], height=gt[5],\n",
    "            euler_angles=[0, 0, gt[6]]\n",
    "        )\n",
    "        corners, triangle_vertices = bbox.p, bbox.triangle_vertices\n",
    "        center_x = (corners[:,0].max() + corners[:,0].min()) / 2\n",
    "        center_y = (corners[:,1].max() + corners[:,1].min()) / 2\n",
    "        center_z = (corners[:,2].max() + corners[:,2].min()) / 2\n",
    "        \n",
    "        # Mesh for the bounding box\n",
    "        data.append(go.Mesh3d(\n",
    "            x=corners[:, 0], y=corners[:, 1], z=corners[:, 2],\n",
    "            i=triangle_vertices[0], j=triangle_vertices[1], k=triangle_vertices[2],\n",
    "            opacity=0.3, color='rgb(0, 255, 0)', # Green for ground truth\n",
    "            flatshading=True\n",
    "        ))\n",
    "\n",
    "        # Text for bbox details\n",
    "        data.append(go.Scatter3d(\n",
    "            x=[center_x], y=[center_y], z=[center_z],\n",
    "            mode='text',\n",
    "            text=[format_bbox_text(gt[0], gt[1], gt[2])],\n",
    "            textposition='middle center',\n",
    "            showlegend=False,\n",
    "            marker=dict(color='rgb(255, 255, 255)')\n",
    "        ))\n",
    "\n",
    "    # Define the layout with specified aesthetics\n",
    "    layout = go.Layout(\n",
    "        scene=dict(\n",
    "            xaxis=dict(nticks=40, range=[-20, 20], showbackground=True, backgroundcolor='rgb(30, 30, 30)', gridcolor='rgb(127, 127, 127)', zerolinecolor='rgb(127, 127, 127)'),\n",
    "            yaxis=dict(nticks=40, range=[-20, 20], showbackground=True, backgroundcolor='rgb(30, 30, 30)', gridcolor='rgb(127, 127, 127)', zerolinecolor='rgb(127, 127, 127)'),\n",
    "            zaxis=dict(nticks=20, range=[-1, 19], showbackground=True, backgroundcolor='rgb(30, 30, 30)', gridcolor='rgb(127, 127, 127)', zerolinecolor='rgb(127, 127, 127)'),\n",
    "            xaxis_title=\"x (meters)\",\n",
    "            yaxis_title=\"y (meters)\",\n",
    "            zaxis_title=\"z (meters)\"\n",
    "        ),\n",
    "        margin=dict(r=10, l=10, b=10, t=10),\n",
    "        paper_bgcolor='rgb(30, 30, 30)',\n",
    "        font=dict(family=\"Courier New, monospace\", color='rgb(127, 127, 127)'),\n",
    "        legend=dict(font=dict(family=\"Courier New, monospace\", color='rgb(127, 127, 127)'))\n",
    "    )\n",
    "    \n",
    "    fig = go.Figure(data=data, layout=layout)\n",
    "    if show_dont_save == False:\n",
    "        fig.write_html(file_path)\n",
    "    else:\n",
    "        fig.show()\n",
    "\n",
    "    if show_dont_save == False:\n",
    "        # Save as PNG\n",
    "        fig.update_layout(scene_camera=dict(eye=dict(x=1, y=0, z=0)))\n",
    "        fig.write_image(file_path_png)"
   ]
  },
  {
   "cell_type": "markdown",
   "metadata": {},
   "source": [
    "# File processing"
   ]
  },
  {
   "cell_type": "code",
   "execution_count": 17,
   "metadata": {},
   "outputs": [],
   "source": [
    "# modified cell to see if it works\n",
    "def read_gt_file(fname):\n",
    "\n",
    "    with open(fname, 'r') as file:\n",
    "        lines = file.readlines()\n",
    "\n",
    "    data = []\n",
    "\n",
    "    for line in lines:\n",
    "        # Split each line into a list of strings\n",
    "        values = line.strip().split()\n",
    "\n",
    "        # Convert numerical values to floats and keep the last element as a string\n",
    "        values = [float(val) if i < len(values) - 1 else val for i, val in enumerate(values)]\n",
    "\n",
    "        # Append the list of values to the data list\n",
    "        data.append(values)\n",
    "        \n",
    "    return data"
   ]
  },
  {
   "cell_type": "code",
   "execution_count": 18,
   "metadata": {},
   "outputs": [],
   "source": [
    "def read_detector_file(fname):\n",
    "\n",
    "    with open(fname, 'r') as file:\n",
    "        lines = file.readlines()\n",
    "\n",
    "    data = []\n",
    "\n",
    "    for line in lines:\n",
    "        # Split each line into a list of strings\n",
    "        values = line.strip().split()\n",
    "\n",
    "        # Convert strings to floats\n",
    "        values = [float(val) for val in values]\n",
    "\n",
    "        # Append the list of values to the data list\n",
    "        data.append(values)\n",
    "        \n",
    "    return data"
   ]
  },
  {
   "cell_type": "code",
   "execution_count": 19,
   "metadata": {},
   "outputs": [],
   "source": [
    "# Specify the names of the directories:\n",
    "def process_files(base_dir, evaluate_all=True, single_file=None):\n",
    "    detector_path = os.path.join(base_dir, 'detector_labels')\n",
    "    gt_path = os.path.join(base_dir, 'gt_test/labels')\n",
    "    npy_path = os.path.join(base_dir, 'gt_test/npy')\n",
    "    html_path = os.path.join(base_dir, 'gt_test/html')\n",
    "    \n",
    "    file_list = [os.path.join(detector_path, single_file)] if not evaluate_all else glob.glob(os.path.join(detector_path, '*.txt'))\n",
    "\n",
    "    total_tp = total_fp = total_fn = 0\n",
    "\n",
    "    for file_name in file_list:\n",
    "        basename = os.path.splitext(os.path.basename(file_name))[0]\n",
    "        gt_file = os.path.join(gt_path, f\"{basename}.txt\")\n",
    "        npy_file = os.path.join(npy_path, f\"{basename}.npy\")\n",
    "\n",
    "        detector_boxes = read_detector_file(file_name)\n",
    "        gt_boxes = read_gt_file(gt_file)\n",
    "        pc = np.load(npy_file)\n",
    "\n",
    "        tp, fp, fn = evaluate_detection(gt_boxes, detector_boxes)\n",
    "        total_tp += tp\n",
    "        total_fp += fp\n",
    "        total_fn += fn\n",
    "\n",
    "        results_dir = os.path.join(html_path, f\"{basename}_results\")\n",
    "        os.makedirs(results_dir, exist_ok=True)\n",
    "        file_path_html = os.path.join(results_dir, f\"{basename}.html\")\n",
    "        file_path_png = os.path.join(results_dir, f\"{basename}.png\")\n",
    "        saveHTML(pc, gt_boxes, detector_boxes, file_path_html, file_path_png, show_dont_save=True) # Set to False to save the HTML and PNG files\n",
    "\n",
    "    return total_tp, total_fp, total_fn"
   ]
  },
  {
   "cell_type": "markdown",
   "metadata": {},
   "source": [
    "# Print evaluation metrics:"
   ]
  },
  {
   "cell_type": "code",
   "execution_count": 21,
   "metadata": {},
   "outputs": [
    {
     "name": "stdout",
     "output_type": "stream",
     "text": [
      "Total True Positives: 0, Total False Positives: 0, Total False Negatives: 0\n",
      "Precision: 0.0000, Recall: 0.0000, F1 Score: 0.0000\n"
     ]
    }
   ],
   "source": [
    "base_dir = '/home/tauproj1/Innoviz_Project/OpenPCDet-master_New_copy/3D_Object_Detector/Evaluation/pointpillar_enhanced2' # and remember to also change the file names and \"show_dont_save\" in the cell above if needed\n",
    "total_tp, total_fp, total_fn = process_files(base_dir, evaluate_all=True)                                  # Evaluate all files\n",
    "# total_tp, total_fp, total_fn = process_files(base_dir, evaluate_all=False, single_file='res_00001.txt')  # Evaluate a single file\n",
    "precision, recall, f1_score = calculate_metrics(total_tp, total_fp, total_fn, 0)  # tn is not used\n",
    "print(f\"Precision: {precision:.4f}, Recall: {recall:.4f}, F1 Score: {f1_score:.4f}\")"
   ]
  },
  {
   "cell_type": "code",
   "execution_count": null,
   "metadata": {},
   "outputs": [],
   "source": []
  }
 ],
 "metadata": {
  "kernelspec": {
   "display_name": "new_env",
   "language": "python",
   "name": "python3"
  },
  "language_info": {
   "codemirror_mode": {
    "name": "ipython",
    "version": 3
   },
   "file_extension": ".py",
   "mimetype": "text/x-python",
   "name": "python",
   "nbconvert_exporter": "python",
   "pygments_lexer": "ipython3",
   "version": "3.11.5"
  }
 },
 "nbformat": 4,
 "nbformat_minor": 2
}
